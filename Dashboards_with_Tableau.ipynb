{
 "cells": [
  {
   "cell_type": "markdown",
   "id": "28f6a1c3",
   "metadata": {},
   "source": [
    "# Lab | Dashboards with Tableau"
   ]
  },
  {
   "cell_type": "markdown",
   "id": "1fd5b0a7",
   "metadata": {},
   "source": [
    "Steps:\n",
    "-Create a sheet with a barplot of the number of customers per Gender.\n",
    "-Create a sheet with a barplot of the number of customers per EmploymentStatus and Gender.\n",
    "-Create a sheet with a treeplot of the number of customers per State.\n",
    "-Create a cross table with Marital status and Gender.\n",
    "-Create a Dashboard with all the Sheets created until now.\n",
    "\n",
    "Link for the dashboard containing all of the above:\n",
    "https://public.tableau.com/views/unit4_DashboardsWithTableau/Dashboard1?:language=pt-BR&:display_count=n&:origin=viz_share_link"
   ]
  }
 ],
 "metadata": {
  "kernelspec": {
   "display_name": "Python 3",
   "language": "python",
   "name": "python3"
  },
  "language_info": {
   "codemirror_mode": {
    "name": "ipython",
    "version": 3
   },
   "file_extension": ".py",
   "mimetype": "text/x-python",
   "name": "python",
   "nbconvert_exporter": "python",
   "pygments_lexer": "ipython3",
   "version": "3.8.8"
  }
 },
 "nbformat": 4,
 "nbformat_minor": 5
}
